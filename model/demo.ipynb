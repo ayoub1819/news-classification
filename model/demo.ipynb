{
 "cells": [
  {
   "cell_type": "code",
   "execution_count": 53,
   "metadata": {},
   "outputs": [],
   "source": [
    "import re\n",
    "import pandas as pd\n",
    "import numpy as np\n",
    "from sklearn.feature_extraction.text import TfidfVectorizer\n",
    "from sklearn.model_selection import train_test_split \n",
    "from sklearn.metrics import classification_report \n",
    "from sklearn.svm import NuSVC \n"
   ]
  },
  {
   "attachments": {},
   "cell_type": "markdown",
   "metadata": {},
   "source": [
    "<h4 style=\"color:green\">Preprocessing</h4>"
   ]
  },
  {
   "cell_type": "code",
   "execution_count": 54,
   "metadata": {},
   "outputs": [],
   "source": [
    "#remove ponctuation and special chars and numbers...\n",
    "def clean_str(string):\n",
    "    \n",
    "    string = re.sub(r\"\\'s\", \"\", string)\n",
    "    string = re.sub(r\"\\'ve\", \"\", string)\n",
    "    string = re.sub(r\"n\\'t\", \"\", string)\n",
    "    string = re.sub(r\"\\'re\", \"\", string)\n",
    "    string = re.sub(r\"\\'d\", \"\", string)\n",
    "    string = re.sub(r\"\\'ll\", \"\", string)\n",
    "    string = re.sub(r\",\", \"\", string)\n",
    "    string = re.sub(r\"!\", \" ! \", string)\n",
    "    string = re.sub(r\"\\(\", \"\", string)\n",
    "    string = re.sub(r\"\\)\", \"\", string)\n",
    "    string = re.sub(r\"\\?\", \"\", string)\n",
    "    string = re.sub(r\"'\", \"\", string)\n",
    "    string = re.sub(r\"[^A-Za-z0-9(),!?\\'\\`]\", \" \", string)\n",
    "    string = re.sub(r\"[0-9]\\w+|[0-9]\",\"\", string)\n",
    "    string = re.sub(r\"\\s{2,}\", \" \", string)\n",
    "    return string.strip().lower()"
   ]
  },
  {
   "cell_type": "code",
   "execution_count": 55,
   "metadata": {},
   "outputs": [],
   "source": [
    "#applying  clean_str on each word in each article\n",
    "def preprocess(x):\n",
    "    for index,value in enumerate(x):\n",
    "        x[index] = ' '.join([word for word in clean_str(value).split()])\n",
    "    return x"
   ]
  },
  {
   "attachments": {},
   "cell_type": "markdown",
   "metadata": {},
   "source": [
    "<h4 style=\"color:green\">Features extraction</h4>"
   ]
  },
  {
   "cell_type": "code",
   "execution_count": 56,
   "metadata": {},
   "outputs": [],
   "source": [
    "def features_extract(x):\n",
    "    vect = TfidfVectorizer(stop_words='english',min_df=4)\n",
    "    X = vect.fit_transform(x)\n",
    "    return vect,X\n"
   ]
  },
  {
   "attachments": {},
   "cell_type": "markdown",
   "metadata": {},
   "source": [
    "<h4 style=\"color:green\">Building and evaulating the model</h4>"
   ]
  },
  {
   "cell_type": "code",
   "execution_count": 31,
   "metadata": {},
   "outputs": [],
   "source": [
    "\n",
    "def fitting(X, y):\n",
    "    # Create training and testing samples\n",
    "    X_train, X_test, y_train, y_test = train_test_split(X, y, test_size=0.2, random_state=0)\n",
    "\n",
    "    # Fit the model\n",
    "    model = NuSVC(kernel='rbf', probability=True)\n",
    "    clf = model.fit(X_train, y_train)\n",
    "\n",
    "    return X_train, X_test, y_train, y_test, model,clf\n"
   ]
  },
  {
   "cell_type": "code",
   "execution_count": 57,
   "metadata": {},
   "outputs": [],
   "source": [
    "def evaluate(X_train,y_train,X_test,y_test,model,target_names=None):\n",
    "    \n",
    "    # Predict class labels on a test data\n",
    "    pred_labels_te = model.predict(X_test)\n",
    "   \n",
    "    return classification_report(y_test, pred_labels_te,target_names=target_names)\n",
    "    "
   ]
  },
  {
   "attachments": {},
   "cell_type": "markdown",
   "metadata": {},
   "source": [
    "<h4 style=\"color:red\">BBC dataset</h4>"
   ]
  },
  {
   "cell_type": "code",
   "execution_count": 58,
   "metadata": {},
   "outputs": [],
   "source": [
    "data = pd.read_csv('../dataset/dataset.csv',encoding=\"cp1252\")\n",
    "x = data['news'].tolist()\n",
    "y = data['type'].tolist()\n",
    "\n",
    "x = preprocess(x)\n",
    "BBC_vectorizer,X = features_extract(x)\n",
    "Y = np.array(y)\n",
    "\n",
    "X_train, X_test, y_train, y_test, BBC_model,clf = fitting(X, y)\n",
    "\n",
    "BBC_results = evaluate(X_train, y_train,X_test, y_test, BBC_model)"
   ]
  },
  {
   "attachments": {},
   "cell_type": "markdown",
   "metadata": {},
   "source": [
    "<h4 style=\"color:red\">20 news groups dataset</h4>"
   ]
  },
  {
   "cell_type": "code",
   "execution_count": 59,
   "metadata": {},
   "outputs": [],
   "source": [
    "from sklearn.datasets import fetch_20newsgroups\n",
    "categories = [ 'misc.forsale','comp.graphics','soc.religion.christian','talk.politics.guns','rec.sport.baseball']\n",
    "newsgroups_data = fetch_20newsgroups(subset=\"all\",categories=categories)\n",
    "target_names = newsgroups_data.target_names\n",
    "\n",
    "x = newsgroups_data['data']\n",
    "y = newsgroups_data['target']\n",
    "\n",
    "x = preprocess(x)\n",
    "newsgroups_vectorizer,X = features_extract(x)\n",
    "Y = np.array(y)\n",
    "\n",
    "X_train, X_test, y_train, y_test, newsgroups_model,clf = fitting(X, y)\n",
    "\n",
    "newsgroups_results = evaluate(X_train, y_train ,X_test, y_test, newsgroups_model,target_names)"
   ]
  },
  {
   "attachments": {},
   "cell_type": "markdown",
   "metadata": {},
   "source": [
    "<h4 style=\"color:green\">saving the model and the vectorizers</h4>"
   ]
  },
  {
   "cell_type": "code",
   "execution_count": 38,
   "metadata": {},
   "outputs": [],
   "source": [
    "import pickle\n",
    "pickle.dump(BBC_model,open(\"BBC_model.sav\",'xb'))\n",
    "pickle.dump(newsgroups_model,open(\"newsgroups_model.sav\",'xb'))\n",
    "pickle.dump(BBC_vectorizer,open(\"BBC_vectorizer.sav\",'xb'))\n",
    "pickle.dump(newsgroups_vectorizer,open(\"newsgroups_vectorizer.sav\",'xb'))"
   ]
  },
  {
   "attachments": {},
   "cell_type": "markdown",
   "metadata": {},
   "source": [
    "<h4 style=\"color:green\">Results</h4>"
   ]
  },
  {
   "cell_type": "code",
   "execution_count": 60,
   "metadata": {},
   "outputs": [
    {
     "name": "stdout",
     "output_type": "stream",
     "text": [
      "-------------------BBC Model------------------------\n",
      "               precision    recall  f1-score   support\n",
      "\n",
      "     business       0.96      0.97      0.96       111\n",
      "entertainment       0.97      0.97      0.97        74\n",
      "     politics       0.96      0.95      0.96        86\n",
      "        sport       1.00      1.00      1.00       108\n",
      "         tech       0.97      0.95      0.96        66\n",
      "\n",
      "     accuracy                           0.97       445\n",
      "    macro avg       0.97      0.97      0.97       445\n",
      " weighted avg       0.97      0.97      0.97       445\n",
      "\n",
      "-------------------20Newsgroup Model------------------------\n",
      "                        precision    recall  f1-score   support\n",
      "\n",
      "         comp.graphics       0.94      0.99      0.96       195\n",
      "          misc.forsale       0.95      0.98      0.97       187\n",
      "    rec.sport.baseball       0.99      0.97      0.98       209\n",
      "soc.religion.christian       1.00      0.94      0.97       203\n",
      "    talk.politics.guns       1.00      0.98      0.99       176\n",
      "\n",
      "              accuracy                           0.97       970\n",
      "             macro avg       0.97      0.97      0.97       970\n",
      "          weighted avg       0.97      0.97      0.97       970\n",
      "\n"
     ]
    }
   ],
   "source": [
    "print('-------------------BBC Model------------------------')\n",
    "print(BBC_results)\n",
    "print('-------------------20Newsgroup Model------------------------')\n",
    "print(newsgroups_results)"
   ]
  },
  {
   "attachments": {},
   "cell_type": "markdown",
   "metadata": {},
   "source": [
    "<h4 style=\"color:green\">Testing a new article</h4>"
   ]
  },
  {
   "cell_type": "code",
   "execution_count": 42,
   "metadata": {},
   "outputs": [],
   "source": [
    "def check_news_type(news_article,vect,model,target_names = None):  \n",
    "    article = list(news_article)\n",
    "    article = preprocess(article)\n",
    "    features = vect.transform(article)\n",
    "    prediction = model.predict(features)[0]\n",
    "    category = prediction if target_names is None else target_names[prediction]\n",
    "    return str(category) "
   ]
  },
  {
   "cell_type": "code",
   "execution_count": 49,
   "metadata": {},
   "outputs": [],
   "source": [
    "bbc_model = pickle.load(open(\"BBC_model.sav\",'rb'))\n",
    "bbc_vect = pickle.load(open(\"BBC_vectorizer.sav\",'rb'))\n",
    "group20new_model = pickle.load(open(\"newsgroups_model.sav\",'rb'))\n",
    "group20new_vect = pickle.load(open(\"newsgroups_vectorizer.sav\",'rb'))\n"
   ]
  },
  {
   "cell_type": "code",
   "execution_count": 48,
   "metadata": {},
   "outputs": [],
   "source": [
    "article = \"\"\"Ad sales boost Time Warner profit\n",
    "\n",
    "Quarterly profits at US media giant TimeWarner jumped 76% to $1.13bn (?600m) for the three months to December, from $639m year-earlier.\n",
    "\n",
    "The firm, which is now one of the biggest investors in Google, benefited from sales of high-speed internet connections and higher advert sales. TimeWarner said fourth quarter sales rose 2% to $11.1bn from $10.9bn. Its profits were buoyed by one-off gains which offset a profit dip at Warner Bros, and less users for AOL.\n",
    "\n",
    "Time Warner said on Friday that it now owns 8% of search-engine Google. But its own internet business, AOL, had has mixed fortunes. It lost 464,000 subscribers in the fourth quarter profits were lower than in the preceding three quarters. However, the company said AOL's underlying profit before exceptional items rose 8% on the back of stronger internet advertising revenues. It hopes to increase subscribers by offering the online service free to TimeWarner internet customers and will try to sign up AOL's existing customers for high-speed broadband. TimeWarner also has to restate 2000 and 2003 results following a probe by the US Securities Exchange Commission (SEC), which is close to concluding.\n",
    "\n",
    "Time Warner's fourth quarter profits were slightly better than analysts' expectations. But its film division saw profits slump 27% to $284m, helped by box-office flops Alexander and Catwoman, a sharp contrast to year-earlier, when the third and final film in the Lord of the Rings trilogy boosted results. For the full-year, TimeWarner posted a profit of $3.36bn, up 27% from its 2003 performance, while revenues grew 6.4% to $42.09bn. \"Our financial performance was strong, meeting or exceeding all of our full-year objectives and greatly enhancing our flexibility,\" chairman and chief executive Richard Parsons said. For 2005, TimeWarner is projecting operating earnings growth of around 5%, and also expects higher revenue and wider profit margins.\n",
    "\n",
    "TimeWarner is to restate its accounts as part of efforts to resolve an inquiry into AOL by US market regulators. It has already offered to pay $300m to settle charges, in a deal that is under review by the SEC. The company said it was unable to estimate the amount it needed to set aside for legal reserves, which it previously set at $500m. It intends to adjust the way it accounts for a deal with German music publisher Bertelsmann's purchase of a stake in AOL Europe, which it had reported as advertising revenue. It will now book the sale of its stake in AOL Europe as a loss on the value of that stake.\"\"\""
   ]
  },
  {
   "cell_type": "code",
   "execution_count": 50,
   "metadata": {},
   "outputs": [
    {
     "data": {
      "text/plain": [
       "'business'"
      ]
     },
     "execution_count": 50,
     "metadata": {},
     "output_type": "execute_result"
    }
   ],
   "source": [
    "check_news_type(article,bbc_vect,bbc_model)"
   ]
  },
  {
   "cell_type": "code",
   "execution_count": 52,
   "metadata": {},
   "outputs": [
    {
     "data": {
      "text/plain": [
       "'comp.graphics'"
      ]
     },
     "execution_count": 52,
     "metadata": {},
     "output_type": "execute_result"
    }
   ],
   "source": [
    "check_news_type(article,group20new_vect,group20new_model,target_names)"
   ]
  },
  {
   "cell_type": "code",
   "execution_count": null,
   "metadata": {},
   "outputs": [],
   "source": []
  }
 ],
 "metadata": {
  "kernelspec": {
   "display_name": "base",
   "language": "python",
   "name": "python3"
  },
  "language_info": {
   "codemirror_mode": {
    "name": "ipython",
    "version": 3
   },
   "file_extension": ".py",
   "mimetype": "text/x-python",
   "name": "python",
   "nbconvert_exporter": "python",
   "pygments_lexer": "ipython3",
   "version": "3.9.7"
  },
  "orig_nbformat": 4,
  "vscode": {
   "interpreter": {
    "hash": "e8644d993601a5dea339df76618c3728cb83e7f84ace633619a8410e84acda8a"
   }
  }
 },
 "nbformat": 4,
 "nbformat_minor": 2
}
